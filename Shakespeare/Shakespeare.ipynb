{
  "cells": [
    {
      "cell_type": "markdown",
      "source": [
        "#####**UNIVERSIDAD AUTONOMA DE CHIHUAHUA**\n",
        "#####**FACULTAD DE INGENIERIA**\n",
        "#####**SHAKESPEARE**\n",
        "#####**NOMBRE:** JOHANN LOZANO ENRIQUEZ\n",
        "#####**GRUPO:** 8CC2\n",
        "#####**MATRICULA:** 338834\n",
        "#####**DOCENTE:** JESUS ROBERTO LOPEZ SANTILLAN\n",
        "#####**MATERIA:** DATA SCIENCE\n",
        "#####***Chihuahua, Chih. 28 de Noviembre del 2023***"
      ],
      "metadata": {
        "id": "77NzFnE2PGPL"
      }
    },
    {
      "cell_type": "code",
      "execution_count": null,
      "metadata": {
        "id": "tufyj3tTK2bp",
        "colab": {
          "base_uri": "https://localhost:8080/"
        },
        "outputId": "24ffa13f-38a8-448e-83fc-d3d8cf338c9b"
      },
      "outputs": [
        {
          "output_type": "stream",
          "name": "stdout",
          "text": [
            "Downloading data from https://homl.info/shakespeare\n",
            "1115394/1115394 [==============================] - 0s 0us/step\n"
          ]
        }
      ],
      "source": [
        "from tensorflow import keras\n",
        "\n",
        "shakespeare_url = \"https://homl.info/shsakepeare\" # shortcut URL\n",
        "filepath = keras.utils.get_file(\"shakespeare.txt\", shakespeare_url)\n",
        "with open(filepath) as f:\n",
        "  shakespeare_text = f.read()"
      ]
    },
    {
      "cell_type": "code",
      "execution_count": null,
      "metadata": {
        "id": "odT_wonGYJ-c"
      },
      "outputs": [],
      "source": [
        "tokenizer = keras.preprocessing.text.Tokenizer(char_level=True)\n",
        "tokenizer.fit_on_texts([shakespeare_text])"
      ]
    },
    {
      "cell_type": "code",
      "execution_count": null,
      "metadata": {
        "colab": {
          "base_uri": "https://localhost:8080/"
        },
        "id": "yxvI-aLZPIem",
        "outputId": "d2152910-cf54-41d6-ee9c-c53ec0e2db14"
      },
      "outputs": [
        {
          "output_type": "execute_result",
          "data": {
            "text/plain": [
              "[[20, 6, 9, 8, 3]]"
            ]
          },
          "metadata": {},
          "execution_count": 3
        }
      ],
      "source": [
        "tokenizer.texts_to_sequences([\"First\"])"
      ]
    },
    {
      "cell_type": "code",
      "execution_count": null,
      "metadata": {
        "colab": {
          "base_uri": "https://localhost:8080/"
        },
        "id": "Xza3R2a-POi_",
        "outputId": "7280059a-e604-44ae-d3d2-eba474e0d0c0"
      },
      "outputs": [
        {
          "output_type": "execute_result",
          "data": {
            "text/plain": [
              "['f i r s t']"
            ]
          },
          "metadata": {},
          "execution_count": 4
        }
      ],
      "source": [
        "tokenizer.sequences_to_texts([[20, 6, 9, 8, 3]])"
      ]
    },
    {
      "cell_type": "code",
      "execution_count": null,
      "metadata": {
        "colab": {
          "base_uri": "https://localhost:8080/"
        },
        "id": "IQOnMPaFPayI",
        "outputId": "76b5b3a4-5c11-453b-aacc-1c526f5a9cf8"
      },
      "outputs": [
        {
          "output_type": "stream",
          "name": "stdout",
          "text": [
            "39\n",
            "1115394\n",
            "<class 'int'>\n"
          ]
        }
      ],
      "source": [
        "max_id = len(tokenizer.word_index) # number of distinct characters\n",
        "#dataset_size = tokenizer.document_count # total number of character\n",
        "dataset_size = sum([x for _,x in tokenizer.word_counts.items()])\n",
        "print(max_id)\n",
        "print(dataset_size)\n",
        "print(type(dataset_size))"
      ]
    },
    {
      "cell_type": "code",
      "execution_count": null,
      "metadata": {
        "id": "s9QVRsBvQEBt"
      },
      "outputs": [],
      "source": [
        "import numpy as np\n",
        "[encoded] = np.array(tokenizer.texts_to_sequences([shakespeare_text])) - 1"
      ]
    },
    {
      "cell_type": "code",
      "execution_count": null,
      "metadata": {
        "id": "7IVFVH8CQhwE"
      },
      "outputs": [],
      "source": [
        "import tensorflow as tf\n",
        "train_size = dataset_size * 90 // 100\n",
        "dataset = tf.data.Dataset.from_tensor_slices(encoded[:train_size])"
      ]
    },
    {
      "cell_type": "code",
      "execution_count": null,
      "metadata": {
        "id": "K37cZS81SCDD"
      },
      "outputs": [],
      "source": [
        "n_steps = 100\n",
        "window_length = n_steps + 1\n",
        "dataset = dataset.window(window_length, shift=1, drop_remainder=True)"
      ]
    },
    {
      "cell_type": "code",
      "execution_count": null,
      "metadata": {
        "id": "9sStXX-yScOo"
      },
      "outputs": [],
      "source": [
        "dataset = dataset.flat_map(lambda window: window.batch(window_length))"
      ]
    },
    {
      "cell_type": "code",
      "execution_count": null,
      "metadata": {
        "id": "rCxc8Mp4S-SL"
      },
      "outputs": [],
      "source": [
        "batch_size = 32\n",
        "dataset = dataset.shuffle(10000).batch(batch_size)\n",
        "dataset = dataset.map(lambda windows: (windows[:, :-1], windows[:, 1:]))"
      ]
    },
    {
      "cell_type": "code",
      "execution_count": null,
      "metadata": {
        "id": "DQIw7YORTw82"
      },
      "outputs": [],
      "source": [
        "dataset = dataset.map(\n",
        "    lambda X_batch, Y_batch: (tf.one_hot(X_batch, depth=max_id), Y_batch)\n",
        ")"
      ]
    },
    {
      "cell_type": "code",
      "execution_count": null,
      "metadata": {
        "id": "PyKOHF8pUQRD"
      },
      "outputs": [],
      "source": [
        "dataset = dataset.prefetch(1)"
      ]
    },
    {
      "cell_type": "code",
      "source": [
        "import tensorflow as tf\n",
        "print(tf.__version__)"
      ],
      "metadata": {
        "colab": {
          "base_uri": "https://localhost:8080/"
        },
        "id": "cNWr6po4Xhwh",
        "outputId": "86060e1c-7b70-432d-9b33-c0d63c520a62"
      },
      "execution_count": null,
      "outputs": [
        {
          "output_type": "stream",
          "name": "stdout",
          "text": [
            "2.14.0\n"
          ]
        }
      ]
    },
    {
      "cell_type": "code",
      "execution_count": null,
      "metadata": {
        "colab": {
          "base_uri": "https://localhost:8080/",
          "height": 91
        },
        "id": "xyMPICnLU2Vw",
        "outputId": "7e68bd8d-7f50-4705-be35-2a4173a3f25d"
      },
      "outputs": [
        {
          "output_type": "execute_result",
          "data": {
            "text/plain": [
              "'model = keras.models.Sequential([\\n    keras.layers.GRU(128, return_sequences=True, input_shape=[None,max_id],dropout=0.2),\\n    keras.layers.GRU(128, return_sequences=True,\\n                     #dropout=0.2, recurrent_dropout=0.2),\\n                     dropout=0.2),\\n    keras.layers.TimeDistributed(keras.layers.Dense(max_id, activation=\"softmax\"))\\n])\\nmodel.compile(loss=\"sparse_categorical_crossentropy\", optimizer=\"adam\")\\nhistory=model.fit(dataset, epochs=20)\\nmodel.save(\\'my_model.h5\\')'"
            ],
            "application/vnd.google.colaboratory.intrinsic+json": {
              "type": "string"
            }
          },
          "metadata": {},
          "execution_count": 14
        }
      ],
      "source": [
        "\"\"\"model = keras.models.Sequential([\n",
        "    keras.layers.GRU(128, return_sequences=True, input_shape=[None,max_id],dropout=0.2),\n",
        "    keras.layers.GRU(128, return_sequences=True,\n",
        "                     #dropout=0.2, recurrent_dropout=0.2),\n",
        "                     dropout=0.2),\n",
        "    keras.layers.TimeDistributed(keras.layers.Dense(max_id, activation=\"softmax\"))\n",
        "])\n",
        "model.compile(loss=\"sparse_categorical_crossentropy\", optimizer=\"adam\")\n",
        "history=model.fit(dataset, epochs=20)\n",
        "model.save('my_model.h5')\"\"\""
      ]
    },
    {
      "cell_type": "code",
      "source": [
        "model = tf.keras.models.load_model('my_model.h5')"
      ],
      "metadata": {
        "id": "iCZt8y8pty6J"
      },
      "execution_count": null,
      "outputs": []
    },
    {
      "cell_type": "code",
      "source": [
        "model.summary()"
      ],
      "metadata": {
        "id": "-8jHMLIGipq-",
        "colab": {
          "base_uri": "https://localhost:8080/"
        },
        "outputId": "cb92e167-211b-4dc3-98c9-1c62d76edfdb"
      },
      "execution_count": null,
      "outputs": [
        {
          "output_type": "stream",
          "name": "stdout",
          "text": [
            "Model: \"sequential_1\"\n",
            "_________________________________________________________________\n",
            " Layer (type)                Output Shape              Param #   \n",
            "=================================================================\n",
            " gru_2 (GRU)                 (None, None, 128)         64896     \n",
            "                                                                 \n",
            " gru_3 (GRU)                 (None, None, 128)         99072     \n",
            "                                                                 \n",
            " time_distributed_1 (TimeDi  (None, None, 39)          5031      \n",
            " stributed)                                                      \n",
            "                                                                 \n",
            "=================================================================\n",
            "Total params: 168999 (660.15 KB)\n",
            "Trainable params: 168999 (660.15 KB)\n",
            "Non-trainable params: 0 (0.00 Byte)\n",
            "_________________________________________________________________\n"
          ]
        }
      ]
    },
    {
      "cell_type": "code",
      "execution_count": null,
      "metadata": {
        "id": "FBHBfzuvZdR7"
      },
      "outputs": [],
      "source": [
        "def preprocess(texts):\n",
        "  X = np.array(tokenizer.texts_to_sequences(texts)) - 1\n",
        "  return tf.one_hot(X, max_id)"
      ]
    },
    {
      "cell_type": "code",
      "source": [
        "X_new = preprocess([\"How are yo\"])\n",
        "Y_pred_prob = model.predict(X_new)\n",
        "Y_pred_classes = np.argmax(Y_pred_prob, axis=-1)\n",
        "\n",
        "predicted_text = tokenizer.sequences_to_texts(Y_pred_classes +1)[0][-1]\n",
        "print(predicted_text)"
      ],
      "metadata": {
        "id": "8Wkm_cnwi6oA",
        "colab": {
          "base_uri": "https://localhost:8080/"
        },
        "outputId": "f99e0a0b-7c5b-4f8a-f489-6aa87c3dec43"
      },
      "execution_count": null,
      "outputs": [
        {
          "output_type": "stream",
          "name": "stdout",
          "text": [
            "1/1 [==============================] - 7s 7s/step\n",
            "u\n"
          ]
        }
      ]
    },
    {
      "cell_type": "code",
      "execution_count": null,
      "metadata": {
        "id": "WMpAVB7aaGcf"
      },
      "outputs": [],
      "source": [
        "def next_char(text, temperature=1):\n",
        "  X_new = preprocess([text])\n",
        "  y_proba = model.predict(X_new)[0, -1:, :]\n",
        "  rescaled_logits = tf.math.log(y_proba) / temperature\n",
        "  char_id = tf.random.categorical(rescaled_logits, num_samples=1) + 1\n",
        "  return tokenizer.sequences_to_texts(char_id.numpy())[0]"
      ]
    },
    {
      "cell_type": "code",
      "source": [
        "def complete_text(text, n_chars=50, temperature=1):\n",
        "  for _ in range(n_chars):\n",
        "    text += next_char(text, temperature)\n",
        "  return text"
      ],
      "metadata": {
        "id": "AYN3sx9XZpCl"
      },
      "execution_count": null,
      "outputs": []
    },
    {
      "cell_type": "code",
      "source": [
        "print(complete_text(\"t\", temperature=0.2))"
      ],
      "metadata": {
        "id": "y1OsacduZ8qU",
        "colab": {
          "base_uri": "https://localhost:8080/"
        },
        "outputId": "1dc4be2c-5af0-469a-e8c2-2b5581cf83bb"
      },
      "execution_count": null,
      "outputs": [
        {
          "output_type": "stream",
          "name": "stdout",
          "text": [
            "1/1 [==============================] - 1s 1s/step\n",
            "1/1 [==============================] - 0s 72ms/step\n",
            "1/1 [==============================] - 0s 85ms/step\n",
            "1/1 [==============================] - 0s 78ms/step\n",
            "1/1 [==============================] - 0s 60ms/step\n",
            "1/1 [==============================] - 0s 86ms/step\n",
            "1/1 [==============================] - 0s 98ms/step\n",
            "1/1 [==============================] - 0s 68ms/step\n",
            "1/1 [==============================] - 0s 72ms/step\n",
            "1/1 [==============================] - 0s 77ms/step\n",
            "1/1 [==============================] - 0s 116ms/step\n",
            "1/1 [==============================] - 0s 78ms/step\n",
            "1/1 [==============================] - 0s 75ms/step\n",
            "1/1 [==============================] - 0s 148ms/step\n",
            "1/1 [==============================] - 0s 111ms/step\n",
            "1/1 [==============================] - 0s 79ms/step\n",
            "1/1 [==============================] - 0s 150ms/step\n",
            "1/1 [==============================] - 0s 118ms/step\n",
            "1/1 [==============================] - 0s 69ms/step\n",
            "1/1 [==============================] - 0s 43ms/step\n",
            "1/1 [==============================] - 0s 31ms/step\n",
            "1/1 [==============================] - 0s 22ms/step\n",
            "1/1 [==============================] - 0s 22ms/step\n",
            "1/1 [==============================] - 0s 20ms/step\n",
            "1/1 [==============================] - 0s 22ms/step\n",
            "1/1 [==============================] - 0s 23ms/step\n",
            "1/1 [==============================] - 0s 19ms/step\n",
            "1/1 [==============================] - 0s 19ms/step\n",
            "1/1 [==============================] - 0s 20ms/step\n",
            "1/1 [==============================] - 0s 22ms/step\n",
            "1/1 [==============================] - 0s 22ms/step\n",
            "1/1 [==============================] - 0s 20ms/step\n",
            "1/1 [==============================] - 0s 20ms/step\n",
            "1/1 [==============================] - 0s 21ms/step\n",
            "1/1 [==============================] - 0s 23ms/step\n",
            "1/1 [==============================] - 0s 24ms/step\n",
            "1/1 [==============================] - 0s 24ms/step\n",
            "1/1 [==============================] - 0s 22ms/step\n",
            "1/1 [==============================] - 0s 22ms/step\n",
            "1/1 [==============================] - 0s 20ms/step\n",
            "1/1 [==============================] - 0s 20ms/step\n",
            "1/1 [==============================] - 0s 25ms/step\n",
            "1/1 [==============================] - 0s 30ms/step\n",
            "1/1 [==============================] - 0s 25ms/step\n",
            "1/1 [==============================] - 0s 21ms/step\n",
            "1/1 [==============================] - 0s 23ms/step\n",
            "1/1 [==============================] - 0s 24ms/step\n",
            "1/1 [==============================] - 0s 23ms/step\n",
            "1/1 [==============================] - 0s 21ms/step\n",
            "1/1 [==============================] - 0s 21ms/step\n",
            "the streeds,\n",
            "and therefore let him go to her to her\n"
          ]
        }
      ]
    },
    {
      "cell_type": "code",
      "source": [
        "tf.random.set_seed(42)\n",
        "batch_size = 32\n",
        "encoded_parts = np.array_split(encoded[:train_size], batch_size)\n",
        "datasets = []\n",
        "for encoded_part in encoded_parts:\n",
        "  dataset = tf.data.Dataset.from_tensor_slices(encoded_part)\n",
        "  dataset = dataset.window(window_length, shift=n_steps, drop_remainder=True)\n",
        "  dataset = dataset.flat_map(lambda window: window.batch(window_length))\n",
        "  datasets.append(dataset)\n",
        "dataset = tf.data.Dataset.zip(tuple(datasets)).map(lambda *windows: tf.stack(windows))\n",
        "dataset = dataset.map(lambda windows: (windows[:, :-1], windows[:, 1:]))\n",
        "dataset = dataset.map(\n",
        "    lambda X_batch, Y_batch: (tf.one_hot(X_batch, depth=max_id), Y_batch)\n",
        ")\n",
        "dataset = dataset.prefetch(1)"
      ],
      "metadata": {
        "id": "nfzEvLsRQCBh"
      },
      "execution_count": null,
      "outputs": []
    },
    {
      "cell_type": "code",
      "source": [
        "stateful_model = keras.models.Sequential([\n",
        "    keras.layers.GRU(128, return_sequences=True, stateful=True,\n",
        "                     dropout=0.2,batch_input_shape=[batch_size, None, max_id]),\n",
        "    keras.layers.GRU(128, return_sequences=True, stateful=True,\n",
        "                     dropout=0.2),\n",
        "    keras.layers.TimeDistributed(keras.layers.Dense(max_id,\n",
        "                                                    activation=\"softmax\"))\n",
        "])"
      ],
      "metadata": {
        "id": "dmyfROICb5IT"
      },
      "execution_count": null,
      "outputs": []
    },
    {
      "cell_type": "code",
      "source": [
        "class ResetStatesCallback(keras.callbacks.Callback):\n",
        "  def on_epoch_begin(self, epoch, logs):\n",
        "    self.model.reset_states()"
      ],
      "metadata": {
        "id": "IPu9i64gdSB5"
      },
      "execution_count": null,
      "outputs": []
    },
    {
      "cell_type": "code",
      "source": [
        "stateful_model.compile(loss=\"sparse_categorical_crossentropy\", optimizer=\"adam\")\n",
        "stateful_model.fit(dataset, epochs=50, callbacks=[ResetStatesCallback()])"
      ],
      "metadata": {
        "colab": {
          "base_uri": "https://localhost:8080/"
        },
        "id": "IpOeD0r2d7cN",
        "outputId": "52f44be0-ba18-4043-e15d-3417d5dae406"
      },
      "execution_count": null,
      "outputs": [
        {
          "output_type": "stream",
          "name": "stdout",
          "text": [
            "Epoch 1/50\n",
            "313/313 [==============================] - 14s 23ms/step - loss: 2.6301\n",
            "Epoch 2/50\n",
            "313/313 [==============================] - 5s 16ms/step - loss: 2.2366\n",
            "Epoch 3/50\n",
            "313/313 [==============================] - 6s 19ms/step - loss: 2.1060\n",
            "Epoch 4/50\n",
            "313/313 [==============================] - 7s 23ms/step - loss: 2.0305\n",
            "Epoch 5/50\n",
            "313/313 [==============================] - 7s 21ms/step - loss: 1.9805\n",
            "Epoch 6/50\n",
            "313/313 [==============================] - 7s 21ms/step - loss: 1.9419\n",
            "Epoch 7/50\n",
            "313/313 [==============================] - 5s 16ms/step - loss: 1.9152\n",
            "Epoch 8/50\n",
            "313/313 [==============================] - 6s 18ms/step - loss: 1.8934\n",
            "Epoch 9/50\n",
            "313/313 [==============================] - 7s 22ms/step - loss: 1.8772\n",
            "Epoch 10/50\n",
            "313/313 [==============================] - 5s 16ms/step - loss: 1.8601\n",
            "Epoch 11/50\n",
            "313/313 [==============================] - 7s 23ms/step - loss: 1.8489\n",
            "Epoch 12/50\n",
            "313/313 [==============================] - 5s 16ms/step - loss: 1.8371\n",
            "Epoch 13/50\n",
            "313/313 [==============================] - 7s 23ms/step - loss: 1.8294\n",
            "Epoch 14/50\n",
            "313/313 [==============================] - 5s 17ms/step - loss: 1.8187\n",
            "Epoch 15/50\n",
            "313/313 [==============================] - 7s 24ms/step - loss: 1.8115\n",
            "Epoch 16/50\n",
            "313/313 [==============================] - 6s 20ms/step - loss: 1.8054\n",
            "Epoch 17/50\n",
            "313/313 [==============================] - 6s 20ms/step - loss: 1.7964\n",
            "Epoch 18/50\n",
            "313/313 [==============================] - 7s 23ms/step - loss: 1.7924\n",
            "Epoch 19/50\n",
            "313/313 [==============================] - 5s 17ms/step - loss: 1.7877\n",
            "Epoch 20/50\n",
            "313/313 [==============================] - 7s 21ms/step - loss: 1.7835\n",
            "Epoch 21/50\n",
            "313/313 [==============================] - 5s 17ms/step - loss: 1.7777\n",
            "Epoch 22/50\n",
            "313/313 [==============================] - 7s 23ms/step - loss: 1.7736\n",
            "Epoch 23/50\n",
            "313/313 [==============================] - 5s 16ms/step - loss: 1.7678\n",
            "Epoch 24/50\n",
            "313/313 [==============================] - 7s 21ms/step - loss: 1.7658\n",
            "Epoch 25/50\n",
            "313/313 [==============================] - 5s 17ms/step - loss: 1.7625\n",
            "Epoch 26/50\n",
            "313/313 [==============================] - 5s 17ms/step - loss: 1.7573\n",
            "Epoch 27/50\n",
            "313/313 [==============================] - 6s 19ms/step - loss: 1.7562\n",
            "Epoch 28/50\n",
            "313/313 [==============================] - 5s 17ms/step - loss: 1.7519\n",
            "Epoch 29/50\n",
            "313/313 [==============================] - 5s 17ms/step - loss: 1.7504\n",
            "Epoch 30/50\n",
            "313/313 [==============================] - 6s 20ms/step - loss: 1.7467\n",
            "Epoch 31/50\n",
            "313/313 [==============================] - 5s 16ms/step - loss: 1.7413\n",
            "Epoch 32/50\n",
            "313/313 [==============================] - 6s 19ms/step - loss: 1.7421\n",
            "Epoch 33/50\n",
            "313/313 [==============================] - 6s 20ms/step - loss: 1.7381\n",
            "Epoch 34/50\n",
            "313/313 [==============================] - 5s 16ms/step - loss: 1.7385\n",
            "Epoch 35/50\n",
            "313/313 [==============================] - 5s 16ms/step - loss: 1.7339\n",
            "Epoch 36/50\n",
            "313/313 [==============================] - 5s 17ms/step - loss: 1.7333\n",
            "Epoch 37/50\n",
            "313/313 [==============================] - 7s 21ms/step - loss: 1.7287\n",
            "Epoch 38/50\n",
            "313/313 [==============================] - 6s 19ms/step - loss: 1.7304\n",
            "Epoch 39/50\n",
            "313/313 [==============================] - 7s 23ms/step - loss: 1.7266\n",
            "Epoch 40/50\n",
            "313/313 [==============================] - 5s 17ms/step - loss: 1.7249\n",
            "Epoch 41/50\n",
            "313/313 [==============================] - 7s 23ms/step - loss: 1.7236\n",
            "Epoch 42/50\n",
            "313/313 [==============================] - 7s 21ms/step - loss: 1.7223\n",
            "Epoch 43/50\n",
            "313/313 [==============================] - 5s 16ms/step - loss: 1.7216\n",
            "Epoch 44/50\n",
            "313/313 [==============================] - 7s 23ms/step - loss: 1.7196\n",
            "Epoch 45/50\n",
            "313/313 [==============================] - 5s 16ms/step - loss: 1.7176\n",
            "Epoch 46/50\n",
            "313/313 [==============================] - 7s 21ms/step - loss: 1.7143\n",
            "Epoch 47/50\n",
            "313/313 [==============================] - 5s 16ms/step - loss: 1.7165\n",
            "Epoch 48/50\n",
            "313/313 [==============================] - 7s 23ms/step - loss: 1.7117\n",
            "Epoch 49/50\n",
            "313/313 [==============================] - 5s 17ms/step - loss: 1.7142\n",
            "Epoch 50/50\n",
            "313/313 [==============================] - 7s 23ms/step - loss: 1.7116\n"
          ]
        },
        {
          "output_type": "execute_result",
          "data": {
            "text/plain": [
              "<keras.src.callbacks.History at 0x7881445ad0f0>"
            ]
          },
          "metadata": {},
          "execution_count": 28
        }
      ]
    },
    {
      "cell_type": "code",
      "source": [
        "stateful_model.save('my_model_stateful.h5')"
      ],
      "metadata": {
        "colab": {
          "base_uri": "https://localhost:8080/"
        },
        "id": "TQySuSb1cz-P",
        "outputId": "dbffa974-7067-43f4-d330-a24b25da4c91"
      },
      "execution_count": null,
      "outputs": [
        {
          "output_type": "stream",
          "name": "stderr",
          "text": [
            "/usr/local/lib/python3.10/dist-packages/keras/src/engine/training.py:3079: UserWarning: You are saving your model as an HDF5 file via `model.save()`. This file format is considered legacy. We recommend using instead the native Keras format, e.g. `model.save('my_model.keras')`.\n",
            "  saving_api.save_model(\n"
          ]
        }
      ]
    },
    {
      "cell_type": "code",
      "source": [
        "stateless_model = keras.models.Sequential([\n",
        "    keras.layers.GRU(128, return_sequences=True, input_shape=[None, max_id]),\n",
        "    keras.layers.GRU(128, return_sequences=True),\n",
        "    keras.layers.TimeDistributed(keras.layers.Dense(max_id,\n",
        "                                                    activation=\"softmax\"))\n",
        "])"
      ],
      "metadata": {
        "id": "RBPLsK1PfdbE"
      },
      "execution_count": null,
      "outputs": []
    },
    {
      "cell_type": "code",
      "source": [
        "stateless_model.build(tf.TensorShape([None, None, max_id]))\n",
        "stateless_model.set_weights(model.get_weights())\n",
        "model = stateless_model\n",
        "tf.random.set_seed(42)\n",
        "print(complete_text(\"t\"))"
      ],
      "metadata": {
        "colab": {
          "base_uri": "https://localhost:8080/"
        },
        "id": "oh_acPOEf5wZ",
        "outputId": "ca7e9963-0fbe-4753-dfd0-e0b4796a4e36"
      },
      "execution_count": null,
      "outputs": [
        {
          "output_type": "stream",
          "name": "stdout",
          "text": [
            "1/1 [==============================] - 1s 622ms/step\n",
            "1/1 [==============================] - 1s 577ms/step\n",
            "1/1 [==============================] - 0s 28ms/step\n",
            "1/1 [==============================] - 0s 20ms/step\n",
            "1/1 [==============================] - 0s 19ms/step\n",
            "1/1 [==============================] - 0s 19ms/step\n",
            "1/1 [==============================] - 0s 19ms/step\n",
            "1/1 [==============================] - 0s 22ms/step\n",
            "1/1 [==============================] - 0s 23ms/step\n",
            "1/1 [==============================] - 0s 25ms/step\n",
            "1/1 [==============================] - 0s 34ms/step\n",
            "1/1 [==============================] - 0s 30ms/step\n",
            "1/1 [==============================] - 0s 31ms/step\n",
            "1/1 [==============================] - 0s 30ms/step\n",
            "1/1 [==============================] - 0s 34ms/step\n",
            "1/1 [==============================] - 0s 35ms/step\n",
            "1/1 [==============================] - 0s 30ms/step\n",
            "1/1 [==============================] - 0s 35ms/step\n",
            "1/1 [==============================] - 0s 30ms/step\n",
            "1/1 [==============================] - 0s 29ms/step\n",
            "1/1 [==============================] - 0s 34ms/step\n",
            "1/1 [==============================] - 0s 29ms/step\n",
            "1/1 [==============================] - 0s 30ms/step\n",
            "1/1 [==============================] - 0s 27ms/step\n",
            "1/1 [==============================] - 0s 37ms/step\n",
            "1/1 [==============================] - 0s 29ms/step\n",
            "1/1 [==============================] - 0s 28ms/step\n",
            "1/1 [==============================] - 0s 29ms/step\n",
            "1/1 [==============================] - 0s 32ms/step\n",
            "1/1 [==============================] - 0s 34ms/step\n",
            "1/1 [==============================] - 0s 32ms/step\n",
            "1/1 [==============================] - 0s 31ms/step\n",
            "1/1 [==============================] - 0s 31ms/step\n",
            "1/1 [==============================] - 0s 38ms/step\n",
            "1/1 [==============================] - 0s 30ms/step\n",
            "1/1 [==============================] - 0s 29ms/step\n",
            "1/1 [==============================] - 0s 29ms/step\n",
            "1/1 [==============================] - 0s 28ms/step\n",
            "1/1 [==============================] - 0s 31ms/step\n",
            "1/1 [==============================] - 0s 36ms/step\n",
            "1/1 [==============================] - 0s 30ms/step\n",
            "1/1 [==============================] - 0s 31ms/step\n",
            "1/1 [==============================] - 0s 28ms/step\n",
            "1/1 [==============================] - 0s 31ms/step\n",
            "1/1 [==============================] - 0s 31ms/step\n",
            "1/1 [==============================] - 0s 30ms/step\n",
            "1/1 [==============================] - 0s 28ms/step\n",
            "1/1 [==============================] - 0s 33ms/step\n",
            "1/1 [==============================] - 0s 35ms/step\n",
            "1/1 [==============================] - 0s 33ms/step\n",
            "thing idder whom\n",
            "either the slave. but i have stone\n"
          ]
        }
      ]
    }
  ],
  "metadata": {
    "colab": {
      "provenance": [],
      "gpuType": "T4"
    },
    "kernelspec": {
      "display_name": "Python 3",
      "name": "python3"
    },
    "language_info": {
      "name": "python"
    },
    "accelerator": "GPU"
  },
  "nbformat": 4,
  "nbformat_minor": 0
}